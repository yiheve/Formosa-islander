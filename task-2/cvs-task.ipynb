{
 "cells": [
  {
   "cell_type": "code",
   "execution_count": 1,
   "metadata": {},
   "outputs": [],
   "source": [
    "import csv\n",
    "with open('rocks.txt','r') as in_file:\n",
    "    stripped =[line.strip() for line in in_file ]\n",
    "    lines = [line.split(\"  \") for line in stripped if line]\n",
    "    with open('rocks.csv','w') as out_file:\n",
    "        writer = csv.writer(out_file)\n",
    "        writer.writerow(('x_pos','y_pos','weight','weight_info'))\n",
    "        writer.writerows(lines)"
   ]
  },
  {
   "cell_type": "code",
   "execution_count": 2,
   "metadata": {},
   "outputs": [
    {
     "name": "stdout",
     "output_type": "stream",
     "text": [
      "['4.436538', '21.848768', '0.815734', 'estimated']\n",
      "['7.596207', '64.461780', '1.390219']\n",
      "['6.266200', '43.585264', '1.148400']\n",
      "['6.444882', '46.771399', '1.180888', 'calculated']\n",
      "['1.144067', '1.495116', '0.217103']\n",
      "['5.905134', '38.925021', '1.082752']\n",
      "['7.994974', '71.215176', '1.462723']\n",
      "['4.810379', '25.258827', '0.883705']\n",
      "['4.855242', '26.109987', '0.891862', 'calculated']\n",
      "['6.846434', '52.080695', '1.253897']\n",
      "['6.736619', '50.695243', '1.233931']\n",
      "['8.018184', '72.022091', '1.466942']\n",
      "['9.893525', '110.619962', '1.807914']\n",
      "['8.960045', '90.754526', '1.638190', 'estimated']\n",
      "['9.661599', '105.789469', '1.765745']\n",
      "['5.372824', '31.921870', '0.985968']\n",
      "['5.909547', '38.645079', '1.083554', 'estimated']\n",
      "['8.017446', '71.449197', '1.466808', 'calculated']\n",
      "['7.859026', '68.585998', '1.438005']\n",
      "['5.444725', '32.524277', '0.999041']\n",
      "['9.894706', '111.354363', '1.808128', 'calculated']\n",
      "['0.533514', '0.284033', '0.106094']\n",
      "['5.529976', '34.277327', '1.014541']\n",
      "['9.910388', '111.058464', '1.810980']\n",
      "['5.409941', '32.110407', '0.992717']\n",
      "['9.277924', '96.829964', '1.695986']\n",
      "['2.301052', '5.786217', '0.427464', 'calculated']\n",
      "['11.184707', '141.216316', '2.042674']\n",
      "['8.584996', '82.575459', '1.569999']\n",
      "['9.139172', '93.389702', '1.670759']\n",
      "['6.529757', '47.957149', '1.196319']\n",
      "['6.973424', '54.714794', '1.276986', 'calculated']\n",
      "['9.426653', '100.700733', '1.723028', 'estimated']\n",
      "['0.942161', '0.903560', '0.180393']\n",
      "['9.732753', '107.759429', '1.778682', 'calculated']\n",
      "['3.886185', '16.846560', '0.715670']\n",
      "['8.168890', '74.257908', '1.494344']\n",
      "['1.801640', '3.594294', '0.336662']\n",
      "['9.173647', '94.362134', '1.677027']\n",
      "['6.013092', '39.975757', '1.102380', 'calculated']\n",
      "['2.688318', '7.931034', '0.497876']\n",
      "['7.559277', '63.711004', '1.383505']\n",
      "['3.356289', '12.535266', '0.619325', 'calculated']\n",
      "['9.515585', '101.972600', '1.739197', 'estimated']\n",
      "['2.490767', '6.572403', '0.461958', 'calculated']\n",
      "['3.679992', '14.633690', '0.678180']\n",
      "['3.137349', '10.950539', '0.579518']\n",
      "['8.316215', '77.687385', '1.521130']\n",
      "['11.491910', '150.850422', '2.098529', 'estimated']\n",
      "['8.592458', '83.098006', '1.571356']\n",
      "['3.833844', '16.315657', '0.706154']\n",
      "['4.390934', '21.143295', '0.807442']\n",
      "['1.579639', '2.606950', '0.296298']\n",
      "['3.376327', '12.265929', '0.622968', 'estimated']\n",
      "['3.726958', '15.509158', '0.686720']\n",
      "['4.354485', '20.932458', '0.800815', 'calculated']\n",
      "['3.838411', '16.271008', '0.706984']\n",
      "['2.672299', '7.642629', '0.494964']\n",
      "['5.722714', '36.622382', '1.049584']\n",
      "['2.669573', '7.977877', '0.494468']\n",
      "['2.672010', '7.742686', '0.494911']\n",
      "['3.017667', '9.805668', '0.557758']\n",
      "['7.612094', '64.637285', '1.393108', 'estimated']\n",
      "['10.322726', '120.347962', '1.885950']\n",
      "['0.530550', '0.370607', '0.105555', 'calculated']\n",
      "['8.831396', '88.429056', '1.614799']\n",
      "['9.820507', '108.712893', '1.794638']\n",
      "['8.323650', '78.112819', '1.522482']\n",
      "['11.473598', '149.950173', '2.095200']\n",
      "['4.486976', '21.748371', '0.824905', 'estimated']\n",
      "['7.316329', '60.140750', '1.339333', 'calculated']\n",
      "['9.111925', '93.759083', '1.665805']\n",
      "['9.957460', '112.239277', '1.819538']\n",
      "['11.172950', '142.273520', '2.040536']\n",
      "['5.348706', '31.775407', '0.981583', 'calculated']\n",
      "['1.666034', '3.150240', '0.312006']\n",
      "['7.622761', '64.804280', '1.395047']\n",
      "['0.691291', '0.526056', '0.134780']\n",
      "['2.602363', '7.278148', '0.482248']\n",
      "['4.574514', '22.775155', '0.840821']\n",
      "['5.999094', '40.112783', '1.099835']\n",
      "['7.392874', '60.654719', '1.353250', 'calculated']\n",
      "['6.464063', '46.415033', '1.184375']\n",
      "['8.792459', '86.447940', '1.607720']\n",
      "['8.841403', '88.572768', '1.616619']\n",
      "['3.642094', '14.585849', '0.671290']\n",
      "['0.873075', '0.821583', '0.167832']\n",
      "['1.496575', '2.436746', '0.281195']\n",
      "['8.191030', '74.599259', '1.498369']\n",
      "['7.197162', '57.623206', '1.317666']\n",
      "['2.954386', '9.653876', '0.546252']\n",
      "['10.258683', '119.425793', '1.874306']\n",
      "['9.439856', '100.284095', '1.725428']\n",
      "['2.394297', '6.432766', '0.444418', 'estimated']\n",
      "['9.763831', '108.475037', '1.784333']\n",
      "['2.570233', '7.052649', '0.476406', 'estimated']\n",
      "['2.714063', '7.789593', '0.502557']\n",
      "['11.203458', '142.772001', '2.046083']\n",
      "['7.870816', '69.197322', '1.440148']\n",
      "['6.123880', '41.320822', '1.122524', 'calculated']\n",
      "['4.043748', '18.152849', '0.744318']\n",
      "['8.212548', '76.131963', '1.502281']\n",
      "['6.554245', '48.167315', '1.200772', 'estimated']\n",
      "['8.954361', '89.592347', '1.637157', 'calculated']\n",
      "['4.449799', '21.414581', '0.818145']\n",
      "['1.908749', '4.076994', '0.356136']\n",
      "['10.901806', '135.084256', '1.991237']\n",
      "['5.942779', '38.938080', '1.089596', 'estimated']\n",
      "['5.367484', '31.943439', '0.984997']\n",
      "['8.200532', '75.732354', '1.500097', 'estimated']\n",
      "['11.205164', '142.212540', '2.046393']\n",
      "['2.561128', '7.300742', '0.474750']\n",
      "['5.344262', '31.422260', '0.980775']\n",
      "['8.384294', '78.601350', '1.533508']\n",
      "['7.191097', '57.645901', '1.316563']\n",
      "['10.326450', '121.011502', '1.886627']\n",
      "['0.730755', '0.567987', '0.141956']\n",
      "['9.191252', '94.949462', '1.680228']\n",
      "['11.218989', '143.550324', '2.048907']\n",
      "['0.991379', '1.097157', '0.189342', 'calculated']\n",
      "['2.744359', '8.216657', '0.508065', 'estimated']\n",
      "['1.843079', '3.744369', '0.344196']\n",
      "['5.756836', '36.843858', '1.055788', 'estimated']\n",
      "['6.956179', '53.366396', '1.273851', 'calculated']\n",
      "['10.752656', '130.402472', '1.964119', 'calculated']\n",
      "['2.842211', '8.741344', '0.525857']\n",
      "['8.615627', '83.858386', '1.575569']\n",
      "['0.620384', '0.394499', '0.121888', 'estimated']\n",
      "['3.749091', '15.128401', '0.690744']\n"
     ]
    }
   ],
   "source": [
    "for i in lines :\n",
    "    print(i)"
   ]
  },
  {
   "cell_type": "code",
   "execution_count": 3,
   "metadata": {},
   "outputs": [],
   "source": [
    "import csv \n",
    "import matplotlib.pyplot as plt\n",
    "import numpy as np\n",
    "import pandas as pd"
   ]
  },
  {
   "cell_type": "code",
   "execution_count": 4,
   "metadata": {},
   "outputs": [],
   "source": [
    "dataframe = pd.read_csv(r\"/Users/echang/desktop/Project/Formosa-islander/task-2/rocks.csv\")\n",
    "x = dataframe.x_pos\n",
    "y = dataframe.y_pos\n",
    "x1= dataframe.x_pos\n",
    "x2= dataframe.y_pos"
   ]
  },
  {
   "cell_type": "code",
   "execution_count": 5,
   "metadata": {},
   "outputs": [
    {
     "data": {
      "image/png": "[encoded data removed]",
      "text/plain": [
       "<Figure size 432x288 with 1 Axes>"
      ]
     },
     "metadata": {
      "needs_background": "light"
     },
     "output_type": "display_data"
    }
   ],
   "source": [
    "plt.scatter(x,y)\n",
    "plt.suptitle('ROCKS')\n",
    "plt.xlabel(\"x_position\")\n",
    "plt.ylabel(\"y_position\")\n",
    "plt.show()"
   ]
  },
  {
   "cell_type": "code",
   "execution_count": null,
   "metadata": {},
   "outputs": [],
   "source": []
  }
 ],
 "metadata": {
  "kernelspec": {
   "display_name": "Python 3",
   "language": "python",
   "name": "python3"
  },
  "language_info": {
   "codemirror_mode": {
    "name": "ipython",
    "version": 3
   },
   "file_extension": ".py",
   "mimetype": "text/x-python",
   "name": "python",
   "nbconvert_exporter": "python",
   "pygments_lexer": "ipython3",
   "version": "3.8.2"
  }
 },
 "nbformat": 4,
 "nbformat_minor": 4
}
